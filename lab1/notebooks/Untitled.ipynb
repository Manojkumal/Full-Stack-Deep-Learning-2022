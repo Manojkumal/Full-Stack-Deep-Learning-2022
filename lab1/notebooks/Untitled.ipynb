{
 "cells": [
  {
   "cell_type": "markdown",
   "id": "416ed298",
   "metadata": {},
   "source": [
    "Downloading data"
   ]
  },
  {
   "cell_type": "code",
   "execution_count": 6,
   "id": "62093fa5",
   "metadata": {},
   "outputs": [],
   "source": [
    "from pathlib import Path\n",
    "import requests\n",
    "\n",
    "\n",
    "def download_mnist(path):\n",
    "    url = \"https://github.com/pytorch/tutorials/raw/main/_static/\"\n",
    "    filename = \"mnist.pkl.gz\"\n",
    "\n",
    "    if not (path / filename).exists():\n",
    "        content = requests.get(url + filename).content\n",
    "        (path / filename).open(\"wb\").write(content)\n",
    "\n",
    "    return path / filename\n",
    "\n",
    "\n",
    "data_path = Path(\"data\") if Path(\"data\").exists() else Path(\"../data\")\n",
    "path = data_path / \"downloaded\" / \"vector-mnist\"\n",
    "path.mkdir(parents=True, exist_ok=True)\n",
    "\n",
    "datafile = download_mnist(path)"
   ]
  },
  {
   "cell_type": "markdown",
   "id": "b7bcd8aa",
   "metadata": {},
   "source": [
    "Note:\n",
    "1. Larger data consumes more resources -- when reading, writing, and sending over the network -- so the dataset is compressed (.gz extension)."
   ]
  },
  {
   "cell_type": "code",
   "execution_count": 11,
   "id": "63714512",
   "metadata": {},
   "outputs": [],
   "source": [
    "import gzip\n",
    "import pickle\n",
    "\n",
    "\n",
    "def read_mnist(path):\n",
    "    with gzip.open(path, \"rb\") as f:\n",
    "        ((x_train, y_train), (x_valid, y_valid), _) = pickle.load(f, encoding=\"latin-1\")\n",
    "    return x_train, y_train, x_valid, y_valid\n",
    "\n",
    "x_train, y_train, x_valid, y_valid = read_mnist(datafile)"
   ]
  },
  {
   "cell_type": "markdown",
   "id": "d690e103",
   "metadata": {},
   "source": [
    "Converting array into Tensor"
   ]
  },
  {
   "cell_type": "code",
   "execution_count": 19,
   "id": "b60d958f",
   "metadata": {},
   "outputs": [],
   "source": [
    "import torch\n",
    "\n",
    "\n",
    "x_train, y_train, x_valid, y_valid = map(\n",
    "    torch.tensor, (x_train, y_train, x_valid, y_valid)\n",
    ")"
   ]
  },
  {
   "cell_type": "markdown",
   "id": "b184cb80",
   "metadata": {},
   "source": [
    "Accessing the contents of Tensor"
   ]
  },
  {
   "cell_type": "code",
   "execution_count": 22,
   "id": "a6c75ec4",
   "metadata": {},
   "outputs": [
    {
     "data": {
      "text/plain": [
       "(tensor(5),\n",
       " tensor([0.0000, 0.0000, 0.0000, 0.0000, 0.0000, 0.0000, 0.0000, 0.0000, 0.0000,\n",
       "         0.0000, 0.0000, 0.0000, 0.0000, 0.0000, 0.0000, 0.0000, 0.0000, 0.0000,\n",
       "         0.0000, 0.0000, 0.0000, 0.0000, 0.0000, 0.0000, 0.0000, 0.0000, 0.0000,\n",
       "         0.0000, 0.0000, 0.0000, 0.0000, 0.0000, 0.0000, 0.0000, 0.0000, 0.0000,\n",
       "         0.0000, 0.0000, 0.0000, 0.0000, 0.0000, 0.0000, 0.0000, 0.0000, 0.0000,\n",
       "         0.0000, 0.0000, 0.0000, 0.0000, 0.0000, 0.0000, 0.0000, 0.0000, 0.0000,\n",
       "         0.0000, 0.0000, 0.0000, 0.0000, 0.0000, 0.0000, 0.0000, 0.0000, 0.0000,\n",
       "         0.0000, 0.0000, 0.0000, 0.0000, 0.0000, 0.0000, 0.0000, 0.0000, 0.0000,\n",
       "         0.0000, 0.0000, 0.0000, 0.0000, 0.0117, 0.0703, 0.4922, 0.6836, 0.6484,\n",
       "         0.9648, 0.0000, 0.0000, 0.0000, 0.0000, 0.0000, 0.0000, 0.1172, 0.3672,\n",
       "         0.6641, 0.9883, 0.9883, 0.8789, 0.9883, 0.7617, 0.0000, 0.0000, 0.0000,\n",
       "         0.0000, 0.0000, 0.0000, 0.9297, 0.9883, 0.9883, 0.9883, 0.9883, 0.3633,\n",
       "         0.3203, 0.1523, 0.0000, 0.0000, 0.0000, 0.0000, 0.0000, 0.0000, 0.8555,\n",
       "         0.9883, 0.9883, 0.7734, 0.9648, 0.0000, 0.0000, 0.0000, 0.0000, 0.0000,\n",
       "         0.0000, 0.0000, 0.0000, 0.0000, 0.3125, 0.4180, 0.9883, 0.0430, 0.1680,\n",
       "         0.0000, 0.0000, 0.0000, 0.0000, 0.0000, 0.0000, 0.0000, 0.0000, 0.0000,\n",
       "         0.0000, 0.0039, 0.9883, 0.0000, 0.0000, 0.0000, 0.0000, 0.0000, 0.0000,\n",
       "         0.0000, 0.0000, 0.0000, 0.0000, 0.0000, 0.0000, 0.0000, 0.9883, 0.0078,\n",
       "         0.0000, 0.0000, 0.0000, 0.0000, 0.0000, 0.0000, 0.0000, 0.0000, 0.0000,\n",
       "         0.0000, 0.0000, 0.0000, 0.7422, 0.2734, 0.0000, 0.0000, 0.0000, 0.0000,\n",
       "         0.0000, 0.0000, 0.0000, 0.0000, 0.0000, 0.0000, 0.0000, 0.0000, 0.1367,\n",
       "         0.8789, 0.4219, 0.0000, 0.0000, 0.0000, 0.0000, 0.0000, 0.0000, 0.0000,\n",
       "         0.0000, 0.0000, 0.0000, 0.0000, 0.0000, 0.9375, 0.9883, 0.0977, 0.0000,\n",
       "         0.0000, 0.0000, 0.0000, 0.0000, 0.0000, 0.0000, 0.0000, 0.0000, 0.0000,\n",
       "         0.0000, 0.1758, 0.9883, 0.5859, 0.0000, 0.0000, 0.0000, 0.0000, 0.0000,\n",
       "         0.0000, 0.0000, 0.0000, 0.0000, 0.0000, 0.0000, 0.0000, 0.3633, 0.9883,\n",
       "         0.0000, 0.0000, 0.0000, 0.0000, 0.0000, 0.0000, 0.0000, 0.0000, 0.0000,\n",
       "         0.0000, 0.0000, 0.0000, 0.0000, 0.9883, 0.2500, 0.0000, 0.0000, 0.0000,\n",
       "         0.0000, 0.0000, 0.0000, 0.0000, 0.0000, 0.0000, 0.0000, 0.1797, 0.7148,\n",
       "         0.9883, 0.0078, 0.0000, 0.0000, 0.0000, 0.0000, 0.0000, 0.0000, 0.0000,\n",
       "         0.0000, 0.0000, 0.1523, 0.8945, 0.9883, 0.9766, 0.0000, 0.0000, 0.0000,\n",
       "         0.0000, 0.0000, 0.0000, 0.0000, 0.0000, 0.0000, 0.0938, 0.8633, 0.9883,\n",
       "         0.9883, 0.3047, 0.0000, 0.0000, 0.0000, 0.0000, 0.0000, 0.0000, 0.0000,\n",
       "         0.0000, 0.0898, 0.8320, 0.9883, 0.9883, 0.3164, 0.0000, 0.0000, 0.0000,\n",
       "         0.0000, 0.0000, 0.0000, 0.0000, 0.0000, 0.0703, 0.8555, 0.9883, 0.9883,\n",
       "         0.3125, 0.0000, 0.0000, 0.0000, 0.0000, 0.0000, 0.0000, 0.0000, 0.0000,\n",
       "         0.2148, 0.8828, 0.9883, 0.9883, 0.5195, 0.0000, 0.0000, 0.0000, 0.0000,\n",
       "         0.0000, 0.0000, 0.0000, 0.0000, 0.0000, 0.5312, 0.9883, 0.8281, 0.5156,\n",
       "         0.0000, 0.0000, 0.0000, 0.0000, 0.0000, 0.0000, 0.0000, 0.0000, 0.0000,\n",
       "         0.0000, 0.0000, 0.0000, 0.0000, 0.0000, 0.0000, 0.0000, 0.0000, 0.0000,\n",
       "         0.0000, 0.0000, 0.0000, 0.0000, 0.0000, 0.0000, 0.0000, 0.0000, 0.0000,\n",
       "         0.0000, 0.0000, 0.0000, 0.0000, 0.0000, 0.0000, 0.0000, 0.0000, 0.0000,\n",
       "         0.0000, 0.0000, 0.0000, 0.0000, 0.0000, 0.0000, 0.0000, 0.0000, 0.0000,\n",
       "         0.0000, 0.0000, 0.0000, 0.0000, 0.0000]))"
      ]
     },
     "execution_count": 22,
     "metadata": {},
     "output_type": "execute_result"
    }
   ],
   "source": [
    "y_train[0], x_train[0, ::2]"
   ]
  },
  {
   "cell_type": "code",
   "execution_count": 23,
   "id": "e02474f3",
   "metadata": {},
   "outputs": [
    {
     "data": {
      "text/plain": [
       "(2, 1)"
      ]
     },
     "execution_count": 23,
     "metadata": {},
     "output_type": "execute_result"
    }
   ],
   "source": [
    "x_train.ndim, y_train.ndim"
   ]
  },
  {
   "cell_type": "code",
   "execution_count": 24,
   "id": "97511cb0",
   "metadata": {},
   "outputs": [
    {
     "data": {
      "text/plain": [
       "(tensor(0.), tensor(5))"
      ]
     },
     "execution_count": 24,
     "metadata": {},
     "output_type": "execute_result"
    }
   ],
   "source": [
    "x_train[0, 0], y_train[0]"
   ]
  },
  {
   "cell_type": "code",
   "execution_count": 25,
   "id": "64fb11b7",
   "metadata": {},
   "outputs": [
    {
     "name": "stdout",
     "output_type": "stream",
     "text": [
      "torch.Size([50000, 784])\n",
      "torch.Size([50000])\n"
     ]
    }
   ],
   "source": [
    "n, c = x_train.shape\n",
    "print(x_train.shape)\n",
    "print(y_train.shape)"
   ]
  },
  {
   "cell_type": "code",
   "execution_count": 32,
   "id": "01f1fa70",
   "metadata": {},
   "outputs": [
    {
     "name": "stdout",
     "output_type": "stream",
     "text": [
      "tensor(9)\n"
     ]
    },
    {
     "data": {
      "image/jpeg": "[encoded data removed]",
      "image/png": "[encoded data removed]",
      "text/plain": [
       "<PIL.PngImagePlugin.PngImageFile image mode=RGB size=28x28>"
      ]
     },
     "execution_count": 32,
     "metadata": {},
     "output_type": "execute_result"
    }
   ],
   "source": [
    "# re-execute this cell for more samples\n",
    "import random\n",
    "\n",
    "import wandb  # just for some convenience methods that convert tensors to human-friendly datatypes\n",
    "\n",
    "import text_recognizer.metadata.mnist as metadata # metadata module holds metadata separate from data\n",
    "\n",
    "idx = random.randint(0, len(x_train))\n",
    "example = x_train[idx]\n",
    "\n",
    "print(y_train[idx])  # the label of the image\n",
    "wandb.Image(example.reshape(*metadata.DIMS)).image  # the image itself"
   ]
  },
  {
   "cell_type": "markdown",
   "id": "49005cc1",
   "metadata": {},
   "source": [
    "Building a deep neural network"
   ]
  },
  {
   "cell_type": "markdown",
   "id": "0b111cbb",
   "metadata": {},
   "source": [
    "Defining the model"
   ]
  },
  {
   "cell_type": "code",
   "execution_count": 33,
   "id": "b9da4977",
   "metadata": {},
   "outputs": [],
   "source": [
    "import math\n",
    "\n",
    "import torch\n",
    "\n",
    "\n",
    "weights = torch.randn(784, 10) / math.sqrt(784)\n",
    "weights.requires_grad_()\n",
    "bias = torch.zeros(10, requires_grad=True)"
   ]
  },
  {
   "cell_type": "code",
   "execution_count": 34,
   "id": "aaba96d2",
   "metadata": {},
   "outputs": [],
   "source": [
    "def linear(x: torch.Tensor) -> torch.Tensor:\n",
    "    return x @ weights + bias"
   ]
  },
  {
   "cell_type": "markdown",
   "id": "a47b4baf",
   "metadata": {},
   "source": [
    "We need to normalize our model's outputs with a softmax to get our model to output something we can use as a probability distribution -- the probability that the network assigns to each label for the image."
   ]
  },
  {
   "cell_type": "code",
   "execution_count": 35,
   "id": "4e3beb4d",
   "metadata": {},
   "outputs": [],
   "source": [
    "def log_softmax(x: torch.Tensor) -> torch.Tensor:\n",
    "    return x - torch.log(torch.sum(torch.exp(x), axis=1))[:, None]\n",
    "\n",
    "def model(xb: torch.Tensor) -> torch.Tensor:\n",
    "    return log_softmax(linear(xb))"
   ]
  },
  {
   "cell_type": "code",
   "execution_count": 36,
   "id": "6c144d3f",
   "metadata": {},
   "outputs": [
    {
     "name": "stdout",
     "output_type": "stream",
     "text": [
      "tensor([-2.7208, -2.7241, -2.3928, -2.8217, -2.7357, -2.1589, -1.4594, -2.1527,\n",
      "        -2.2374, -2.4997], grad_fn=<SelectBackward0>) torch.Size([64, 10])\n"
     ]
    }
   ],
   "source": [
    "bs = 64  # batch size\n",
    "\n",
    "xb = x_train[0:bs]  # a batch of inputs\n",
    "outs = model(xb)  # outputs on that batch\n",
    "\n",
    "print(outs[0], outs.shape)  # outputs on the first element of the batch"
   ]
  },
  {
   "cell_type": "markdown",
   "id": "5fe5c60b",
   "metadata": {},
   "source": [
    "Defining the loss and metrics"
   ]
  },
  {
   "cell_type": "code",
   "execution_count": 37,
   "id": "502c27f1",
   "metadata": {},
   "outputs": [],
   "source": [
    "def accuracy(out: torch.Tensor, yb: torch.Tensor) -> torch.Tensor:\n",
    "    preds = torch.argmax(out, dim=1)\n",
    "    return (preds == yb).float().mean()"
   ]
  },
  {
   "cell_type": "code",
   "execution_count": 38,
   "id": "86b43e57",
   "metadata": {},
   "outputs": [
    {
     "name": "stdout",
     "output_type": "stream",
     "text": [
      "tensor(0.1562)\n"
     ]
    }
   ],
   "source": [
    "yb = y_train[0:bs]\n",
    "\n",
    "acc = accuracy(outs, yb)\n",
    "\n",
    "print(acc)"
   ]
  },
  {
   "cell_type": "code",
   "execution_count": 42,
   "id": "a2a2b14b",
   "metadata": {},
   "outputs": [],
   "source": [
    "def cross_entropy(output: torch.Tensor, target: torch.Tensor) -> torch.Tensor:\n",
    "    return -output[range(target.shape[0]), target].mean()\n",
    "\n",
    "loss_func = cross_entropy"
   ]
  },
  {
   "cell_type": "code",
   "execution_count": 43,
   "id": "48d1dbcf",
   "metadata": {},
   "outputs": [],
   "source": [
    "loss = loss_func(outs, yb)\n",
    "\n",
    "loss.backward()"
   ]
  },
  {
   "cell_type": "markdown",
   "id": "c610a5b0",
   "metadata": {},
   "source": [
    "Defining and running the fitting loop"
   ]
  },
  {
   "cell_type": "code",
   "execution_count": 44,
   "id": "3211b12d",
   "metadata": {},
   "outputs": [],
   "source": [
    "lr = 0.5  # learning rate hyperparameter\n",
    "epochs = 2  # how many epochs to train for\n",
    "\n",
    "for epoch in range(epochs):  # loop over the data repeatedly\n",
    "    for ii in range((n - 1) // bs + 1):  # in batches of size bs, so roughly n / bs of them\n",
    "        start_idx = ii * bs  # we are ii batches in, each of size bs\n",
    "        end_idx = start_idx + bs  # and we want the next bs entires\n",
    "\n",
    "        # pull batches from x and from y\n",
    "        xb = x_train[start_idx:end_idx]\n",
    "        yb = y_train[start_idx:end_idx]\n",
    "\n",
    "        # run model\n",
    "        pred = model(xb)\n",
    "\n",
    "        # get loss\n",
    "        loss = loss_func(pred, yb)\n",
    "\n",
    "        # calculate the gradients with a backwards pass\n",
    "        loss.backward()\n",
    "\n",
    "        # update the parameters\n",
    "        with torch.no_grad():  # we don't want to track gradients through this part!\n",
    "            # SGD learning rule: update with negative gradient scaled by lr\n",
    "            weights -= weights.grad * lr\n",
    "            bias -= bias.grad * lr\n",
    "\n",
    "            # ACHTUNG: PyTorch doesn't assume you're done with gradients\n",
    "            #          until you say so -- by explicitly \"deleting\" them,\n",
    "            #          i.e. setting the gradients to 0.\n",
    "            weights.grad.zero_()\n",
    "            bias.grad.zero_()"
   ]
  },
  {
   "cell_type": "code",
   "execution_count": 45,
   "id": "c017408a",
   "metadata": {},
   "outputs": [
    {
     "name": "stdout",
     "output_type": "stream",
     "text": [
      "tensor(0.0816, grad_fn=<NegBackward0>) tensor(1.)\n"
     ]
    }
   ],
   "source": [
    "print(loss_func(model(xb), yb), accuracy(model(xb), yb))"
   ]
  },
  {
   "cell_type": "markdown",
   "id": "76471a9b",
   "metadata": {},
   "source": [
    "Refactoring with core torch.nn components"
   ]
  },
  {
   "cell_type": "markdown",
   "id": "37b7f394",
   "metadata": {},
   "source": [
    "1. Using torch.nn.functional for stateless computation"
   ]
  },
  {
   "cell_type": "code",
   "execution_count": 46,
   "id": "890791d0",
   "metadata": {},
   "outputs": [],
   "source": [
    "import torch.nn.functional as F\n",
    "\n",
    "loss_func = F.cross_entropy\n",
    "\n",
    "def model(xb):\n",
    "    return xb @ weights + bias"
   ]
  },
  {
   "cell_type": "code",
   "execution_count": 47,
   "id": "4784d916",
   "metadata": {},
   "outputs": [
    {
     "name": "stdout",
     "output_type": "stream",
     "text": [
      "tensor(0.0816, grad_fn=<NllLossBackward0>) tensor(1.)\n"
     ]
    }
   ],
   "source": [
    "print(loss_func(model(xb), yb), accuracy(model(xb), yb))  # should be unchanged from above!"
   ]
  },
  {
   "cell_type": "markdown",
   "id": "21ddd836",
   "metadata": {},
   "source": [
    "2. Using torch.nn.Module to define functions whose state is given by torch.nn.Parameters"
   ]
  },
  {
   "cell_type": "code",
   "execution_count": 49,
   "id": "ff2b872d",
   "metadata": {},
   "outputs": [],
   "source": [
    "from torch import nn\n",
    "\n",
    "\n",
    "class MNISTLogistic(nn.Module):\n",
    "    def __init__(self):\n",
    "        super().__init__()  # the nn.Module.__init__ method does import setup, so this is mandatory\n",
    "        self.weights = nn.Parameter(torch.randn(784, 10) / math.sqrt(784))\n",
    "        self.bias = nn.Parameter(torch.zeros(10))"
   ]
  },
  {
   "cell_type": "code",
   "execution_count": 50,
   "id": "6034f474",
   "metadata": {},
   "outputs": [
    {
     "name": "stdout",
     "output_type": "stream",
     "text": [
      "tensor([[ 0.3051,  0.2203,  0.2475, -0.1748,  0.6241,  0.0710, -0.2662,  0.0798,\n",
      "          0.0657,  0.4258],\n",
      "        [ 0.8994,  0.1209, -0.0573,  0.4592,  0.9770,  0.1127, -0.4037,  0.1178,\n",
      "          0.1790,  0.1467],\n",
      "        [ 0.2382,  0.3229,  0.0929,  0.3978,  0.2296,  0.1106, -0.0451,  0.1301,\n",
      "          0.2951,  0.0424],\n",
      "        [ 0.6790,  0.2543,  0.1010,  0.4546,  0.1637,  0.0367, -0.0930,  0.4431,\n",
      "          0.1806, -0.1483]], grad_fn=<SliceBackward0>)\n",
      "tensor([[ 0.0000e+00,  0.0000e+00,  0.0000e+00,  0.0000e+00,  0.0000e+00],\n",
      "        [ 0.0000e+00,  0.0000e+00,  0.0000e+00,  0.0000e+00,  0.0000e+00],\n",
      "        [ 0.0000e+00,  0.0000e+00,  0.0000e+00,  0.0000e+00,  0.0000e+00],\n",
      "        [ 0.0000e+00,  0.0000e+00,  0.0000e+00,  0.0000e+00,  0.0000e+00],\n",
      "        [ 0.0000e+00,  0.0000e+00,  0.0000e+00,  0.0000e+00,  0.0000e+00],\n",
      "        [ 0.0000e+00,  0.0000e+00,  0.0000e+00,  0.0000e+00,  0.0000e+00],\n",
      "        [ 1.7498e-02,  5.7804e-03,  1.2551e-02,  3.5027e-03,  6.0589e-03],\n",
      "        [ 0.0000e+00,  0.0000e+00,  0.0000e+00,  0.0000e+00,  0.0000e+00],\n",
      "        [ 0.0000e+00,  0.0000e+00,  0.0000e+00,  0.0000e+00,  0.0000e+00],\n",
      "        [-9.7776e-03, -2.0726e-02,  7.6869e-02,  2.8526e-02, -1.3943e-01],\n",
      "        [ 0.0000e+00,  0.0000e+00,  0.0000e+00,  0.0000e+00,  0.0000e+00],\n",
      "        [-2.4539e-02,  1.4870e-02, -3.3038e-02,  9.8491e-03, -4.6063e-02],\n",
      "        [ 3.2816e-02,  1.9661e-02,  3.6999e-02,  9.7774e-03, -5.2686e-02],\n",
      "        [ 0.0000e+00,  0.0000e+00,  0.0000e+00,  0.0000e+00,  0.0000e+00],\n",
      "        [-5.8435e-02,  1.9507e-02,  5.3118e-02,  2.7054e-02, -2.8635e-02],\n",
      "        [ 0.0000e+00,  0.0000e+00,  0.0000e+00,  0.0000e+00,  0.0000e+00],\n",
      "        [-8.3807e-02,  2.2931e-02,  1.1448e-02,  1.3927e-02, -2.1996e-02],\n",
      "        [-3.9124e-02,  5.1302e-02,  8.3379e-02,  3.1892e-02, -1.2079e-01],\n",
      "        [ 0.0000e+00,  0.0000e+00,  0.0000e+00,  0.0000e+00,  0.0000e+00],\n",
      "        [ 4.0601e-02,  1.9516e-02,  4.5722e-02,  1.4215e-02, -4.8039e-02],\n",
      "        [ 0.0000e+00,  0.0000e+00,  0.0000e+00,  0.0000e+00,  0.0000e+00],\n",
      "        [-4.9711e-02,  4.0137e-03,  1.0842e-02,  3.1074e-03,  4.0042e-03],\n",
      "        [ 2.2708e-02,  1.9761e-02, -5.3188e-02,  1.4664e-02, -4.2119e-02],\n",
      "        [ 0.0000e+00,  0.0000e+00,  0.0000e+00,  0.0000e+00,  0.0000e+00],\n",
      "        [ 4.6154e-02,  3.9383e-02, -3.1931e-03,  2.8494e-02, -7.4317e-02],\n",
      "        [ 7.2317e-03,  6.5786e-03, -5.4820e-02,  4.3122e-03,  3.3841e-03],\n",
      "        [-2.4182e-02,  2.6109e-03,  6.2965e-03,  1.7899e-03,  2.5410e-03],\n",
      "        [-3.0404e-03, -2.2401e-02, -3.7573e-02,  3.1906e-02, -1.3662e-03],\n",
      "        [ 0.0000e+00,  0.0000e+00,  0.0000e+00,  0.0000e+00,  0.0000e+00],\n",
      "        [-6.7737e-03, -1.5280e-02, -2.4387e-02,  3.6461e-02, -9.2400e-02],\n",
      "        [-4.7829e-02,  9.5283e-03,  8.7124e-03,  4.6049e-03,  5.6623e-03],\n",
      "        [-1.2252e-03,  1.9303e-04,  1.4276e-04,  9.0135e-05,  1.0232e-04],\n",
      "        [-4.0077e-02,  3.2471e-02,  1.3646e-02,  2.5652e-02, -1.1150e-01],\n",
      "        [ 0.0000e+00,  0.0000e+00,  0.0000e+00,  0.0000e+00,  0.0000e+00],\n",
      "        [-5.7683e-02,  2.9684e-02,  1.9561e-02,  3.1966e-02, -7.8789e-02],\n",
      "        [-4.7882e-02,  9.4432e-03,  8.5984e-03,  4.5537e-03,  5.5942e-03],\n",
      "        [ 0.0000e+00,  0.0000e+00,  0.0000e+00,  0.0000e+00,  0.0000e+00],\n",
      "        [-6.8461e-02,  5.5304e-03,  1.1266e-01,  4.5744e-02, -1.1400e-01],\n",
      "        [ 0.0000e+00,  0.0000e+00,  0.0000e+00,  0.0000e+00,  0.0000e+00],\n",
      "        [ 1.5624e-02,  1.4186e-02,  2.4862e-02,  8.3642e-03, -4.5197e-02],\n",
      "        [ 0.0000e+00,  0.0000e+00,  0.0000e+00,  0.0000e+00,  0.0000e+00],\n",
      "        [ 0.0000e+00,  0.0000e+00,  0.0000e+00,  0.0000e+00,  0.0000e+00],\n",
      "        [ 1.0984e-03,  7.8801e-04,  8.6931e-04,  5.6729e-04,  7.1881e-04],\n",
      "        [ 0.0000e+00,  0.0000e+00,  0.0000e+00,  0.0000e+00,  0.0000e+00],\n",
      "        [ 0.0000e+00,  0.0000e+00,  0.0000e+00,  0.0000e+00,  0.0000e+00],\n",
      "        [ 0.0000e+00,  0.0000e+00,  0.0000e+00,  0.0000e+00,  0.0000e+00],\n",
      "        [ 0.0000e+00,  0.0000e+00,  0.0000e+00,  0.0000e+00,  0.0000e+00]])\n"
     ]
    }
   ],
   "source": [
    "def forward(self, xb: torch.Tensor) -> torch.Tensor:\n",
    "    return xb @ self.weights + self.bias\n",
    "\n",
    "MNISTLogistic.forward = forward\n",
    "\n",
    "model = MNISTLogistic()  # instantiated as an object\n",
    "print(model(xb)[:4])  # callable like a function\n",
    "loss = loss_func(model(xb), yb)  # composable like a function\n",
    "loss.backward()  # we can still take gradients through it\n",
    "print(model.weights.grad[::17,::2])  # and they show up in the .grad attribute"
   ]
  },
  {
   "cell_type": "code",
   "execution_count": 51,
   "id": "e7c11d91",
   "metadata": {},
   "outputs": [],
   "source": [
    "def fit():\n",
    "    for epoch in range(epochs):\n",
    "        for ii in range((n - 1) // bs + 1):\n",
    "            start_idx = ii * bs\n",
    "            end_idx = start_idx + bs\n",
    "            xb = x_train[start_idx:end_idx]\n",
    "            yb = y_train[start_idx:end_idx]\n",
    "            pred = model(xb)\n",
    "            loss = loss_func(pred, yb)\n",
    "\n",
    "            loss.backward()\n",
    "            with torch.no_grad():\n",
    "                for p in model.parameters():  # finds params automatically\n",
    "                    p -= p.grad * lr\n",
    "                model.zero_grad()\n",
    "\n",
    "fit()"
   ]
  },
  {
   "cell_type": "markdown",
   "id": "2db5dfa9",
   "metadata": {},
   "source": [
    "Using torch.nn.Linear for the model definition"
   ]
  },
  {
   "cell_type": "code",
   "execution_count": 52,
   "id": "c554e02b",
   "metadata": {},
   "outputs": [],
   "source": [
    "class MNISTLogistic(nn.Module):\n",
    "    def __init__(self):\n",
    "        super().__init__()\n",
    "        self.lin = nn.Linear(784, 10)  # pytorch finds the nn.Parameters inside this nn.Module\n",
    "\n",
    "    def forward(self, xb):\n",
    "        return self.lin(xb)  # call nn.Linear.forward here"
   ]
  },
  {
   "cell_type": "code",
   "execution_count": 53,
   "id": "0bcb904b",
   "metadata": {},
   "outputs": [
    {
     "name": "stdout",
     "output_type": "stream",
     "text": [
      "tensor(2.2484, grad_fn=<NllLossBackward0>)\n"
     ]
    }
   ],
   "source": [
    "model = MNISTLogistic()\n",
    "print(loss_func(model(xb), yb))  # loss is still close to 2.3"
   ]
  },
  {
   "cell_type": "markdown",
   "id": "027605e8",
   "metadata": {},
   "source": [
    "Applying gradients with torch.optim.Optimizer"
   ]
  },
  {
   "cell_type": "code",
   "execution_count": 54,
   "id": "d8b93c01",
   "metadata": {},
   "outputs": [],
   "source": [
    "from torch import optim\n",
    "\n",
    "\n",
    "def configure_optimizer(model: nn.Module) -> optim.Optimizer:\n",
    "    return optim.Adam(model.parameters(), lr=3e-4)"
   ]
  },
  {
   "cell_type": "code",
   "execution_count": 55,
   "id": "b772f1e4",
   "metadata": {},
   "outputs": [
    {
     "name": "stdout",
     "output_type": "stream",
     "text": [
      "before training:\n",
      "\ttensor(2.3029, grad_fn=<NllLossBackward0>)\n",
      "after training:\n",
      "\ttensor(0.8281, grad_fn=<NllLossBackward0>)\n"
     ]
    }
   ],
   "source": [
    "model = MNISTLogistic()\n",
    "opt = configure_optimizer(model)\n",
    "\n",
    "print(\"before training:\", loss_func(model(xb), yb), sep=\"\\n\\t\")\n",
    "\n",
    "for epoch in range(epochs):\n",
    "    for ii in range((n - 1) // bs + 1):\n",
    "        start_idx = ii * bs\n",
    "        end_idx = start_idx + bs\n",
    "        xb = x_train[start_idx:end_idx]\n",
    "        yb = y_train[start_idx:end_idx]\n",
    "        pred = model(xb)\n",
    "        loss = loss_func(pred, yb)\n",
    "\n",
    "        loss.backward()\n",
    "        opt.step()\n",
    "        opt.zero_grad()\n",
    "\n",
    "print(\"after training:\", loss_func(model(xb), yb), sep=\"\\n\\t\")"
   ]
  },
  {
   "cell_type": "markdown",
   "id": "7f55423f",
   "metadata": {},
   "source": [
    "Organizing data with torch.utils.data.Dataset"
   ]
  },
  {
   "cell_type": "code",
   "execution_count": 56,
   "id": "e8dc7eda",
   "metadata": {},
   "outputs": [],
   "source": [
    "from text_recognizer.data.util import BaseDataset\n",
    "\n",
    "\n",
    "train_ds = BaseDataset(x_train, y_train)"
   ]
  },
  {
   "cell_type": "code",
   "execution_count": 57,
   "id": "b840b858",
   "metadata": {},
   "outputs": [
    {
     "name": "stdout",
     "output_type": "stream",
     "text": [
      "tensor(0.8456, grad_fn=<NllLossBackward0>)\n"
     ]
    }
   ],
   "source": [
    "model = MNISTLogistic()\n",
    "opt = configure_optimizer(model)\n",
    "\n",
    "\n",
    "for epoch in range(epochs):\n",
    "    for ii in range((n - 1) // bs + 1):\n",
    "        xb, yb = train_ds[ii * bs: ii * bs + bs]  # xb and yb in one line!\n",
    "        pred = model(xb)\n",
    "        loss = loss_func(pred, yb)\n",
    "\n",
    "        loss.backward()\n",
    "        opt.step()\n",
    "        opt.zero_grad()\n",
    "\n",
    "print(loss_func(model(xb), yb))"
   ]
  },
  {
   "cell_type": "code",
   "execution_count": 58,
   "id": "ca6ff590",
   "metadata": {},
   "outputs": [],
   "source": [
    "lr = 0.5  # learning rate\n",
    "epochs = 2  # how many epochs to train for\n",
    "\n",
    "for epoch in range(epochs):\n",
    "    for ii in range((n - 1) // bs + 1):\n",
    "        start_idx = ii * bs\n",
    "        end_idx = start_idx + bs\n",
    "        xb = x_train[start_idx:end_idx]\n",
    "        yb = y_train[start_idx:end_idx]\n",
    "        pred = model(xb)\n",
    "        loss = loss_func(pred, yb)\n",
    "\n",
    "        loss.backward()\n",
    "        with torch.no_grad():\n",
    "            weights -= weights.grad * lr\n",
    "            bias -= bias.grad * lr\n",
    "            weights.grad.zero_()\n",
    "            bias.grad.zero_()"
   ]
  },
  {
   "cell_type": "code",
   "execution_count": null,
   "id": "332f9391",
   "metadata": {},
   "outputs": [],
   "source": []
  }
 ],
 "metadata": {
  "kernelspec": {
   "display_name": "venv",
   "language": "python",
   "name": "venv"
  },
  "language_info": {
   "codemirror_mode": {
    "name": "ipython",
    "version": 3
   },
   "file_extension": ".py",
   "mimetype": "text/x-python",
   "name": "python",
   "nbconvert_exporter": "python",
   "pygments_lexer": "ipython3",
   "version": "3.10.12"
  }
 },
 "nbformat": 4,
 "nbformat_minor": 5
}
